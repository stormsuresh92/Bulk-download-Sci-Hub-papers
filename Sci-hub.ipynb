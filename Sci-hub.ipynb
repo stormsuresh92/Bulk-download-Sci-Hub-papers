{
 "cells": [
  {
   "cell_type": "code",
   "execution_count": 14,
   "id": "bec59150",
   "metadata": {},
   "outputs": [
    {
     "name": "stdout",
     "output_type": "stream",
     "text": [
      "https://zero.sci-hub.se/2129/8b47fb9eefa523bbc2dd6305f2197509/kobayashi2005.pdf\n"
     ]
    }
   ],
   "source": [
    "import requests\n",
    "from bs4 import BeautifulSoup\n",
    "\n",
    "\n",
    "payload = {\n",
    "    \"name\":\"Sci-Hub\",\n",
    "    \"method\":\"GET\",\n",
    "    \"url\":\"https://sci-hub.se/\",\n",
    "    \"mode\":\"html\",\n",
    "    \"selector\":\"#pdf\",\n",
    "    \"attribute\":\"src\",\n",
    "    \"automatic\":\"true\"\n",
    "}\n",
    "\n",
    "headers = {\n",
    "    'User-Agent':'Mozilla/5.0 (Windows NT 10.0) AppleWebKit/537.36 (KHTML, like Gecko) Chrome/96.0.4664.45 Safari/537.36'\n",
    "}\n",
    "\n",
    "\n",
    "r = requests.get(\"https://sci-hub.se/10.1056/NEJMoa044238\", headers=headers, data=payload)\n",
    "soup = BeautifulSoup(r.content, 'html.parser')\n",
    "tag = soup.find(id='pdf')\n",
    "pdf = tag.get('src').replace('#navpanes=0&view=FitH', '')\n",
    "print(pdf)"
   ]
  }
 ],
 "metadata": {
  "kernelspec": {
   "display_name": "Python 3 (ipykernel)",
   "language": "python",
   "name": "python3"
  },
  "language_info": {
   "codemirror_mode": {
    "name": "ipython",
    "version": 3
   },
   "file_extension": ".py",
   "mimetype": "text/x-python",
   "name": "python",
   "nbconvert_exporter": "python",
   "pygments_lexer": "ipython3",
   "version": "3.9.5"
  },
  "varInspector": {
   "cols": {
    "lenName": 16,
    "lenType": 16,
    "lenVar": 40
   },
   "kernels_config": {
    "python": {
     "delete_cmd_postfix": "",
     "delete_cmd_prefix": "del ",
     "library": "var_list.py",
     "varRefreshCmd": "print(var_dic_list())"
    },
    "r": {
     "delete_cmd_postfix": ") ",
     "delete_cmd_prefix": "rm(",
     "library": "var_list.r",
     "varRefreshCmd": "cat(var_dic_list()) "
    }
   },
   "types_to_exclude": [
    "module",
    "function",
    "builtin_function_or_method",
    "instance",
    "_Feature"
   ],
   "window_display": false
  }
 },
 "nbformat": 4,
 "nbformat_minor": 5
}
